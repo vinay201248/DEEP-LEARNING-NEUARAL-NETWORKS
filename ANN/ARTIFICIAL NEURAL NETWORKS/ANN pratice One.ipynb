{
 "cells": [
  {
   "cell_type": "code",
   "execution_count": 2,
   "metadata": {},
   "outputs": [],
   "source": [
    "import numpy as np\n",
    "import pandas as pd\n",
    "import matplotlib.pyplot as plt\n"
   ]
  },
  {
   "cell_type": "code",
   "execution_count": 3,
   "metadata": {},
   "outputs": [
    {
     "data": {
      "text/html": [
       "<div>\n",
       "<style scoped>\n",
       "    .dataframe tbody tr th:only-of-type {\n",
       "        vertical-align: middle;\n",
       "    }\n",
       "\n",
       "    .dataframe tbody tr th {\n",
       "        vertical-align: top;\n",
       "    }\n",
       "\n",
       "    .dataframe thead th {\n",
       "        text-align: right;\n",
       "    }\n",
       "</style>\n",
       "<table border=\"1\" class=\"dataframe\">\n",
       "  <thead>\n",
       "    <tr style=\"text-align: right;\">\n",
       "      <th></th>\n",
       "      <th>Id</th>\n",
       "      <th>SepalLengthCm</th>\n",
       "      <th>SepalWidthCm</th>\n",
       "      <th>PetalLengthCm</th>\n",
       "      <th>PetalWidthCm</th>\n",
       "      <th>Species</th>\n",
       "    </tr>\n",
       "  </thead>\n",
       "  <tbody>\n",
       "    <tr>\n",
       "      <th>0</th>\n",
       "      <td>1</td>\n",
       "      <td>5.1</td>\n",
       "      <td>3.5</td>\n",
       "      <td>1.4</td>\n",
       "      <td>0.2</td>\n",
       "      <td>Iris-setosa</td>\n",
       "    </tr>\n",
       "    <tr>\n",
       "      <th>1</th>\n",
       "      <td>2</td>\n",
       "      <td>4.9</td>\n",
       "      <td>3.0</td>\n",
       "      <td>1.4</td>\n",
       "      <td>0.2</td>\n",
       "      <td>Iris-setosa</td>\n",
       "    </tr>\n",
       "    <tr>\n",
       "      <th>2</th>\n",
       "      <td>3</td>\n",
       "      <td>4.7</td>\n",
       "      <td>3.2</td>\n",
       "      <td>1.3</td>\n",
       "      <td>0.2</td>\n",
       "      <td>Iris-setosa</td>\n",
       "    </tr>\n",
       "    <tr>\n",
       "      <th>3</th>\n",
       "      <td>4</td>\n",
       "      <td>4.6</td>\n",
       "      <td>3.1</td>\n",
       "      <td>1.5</td>\n",
       "      <td>0.2</td>\n",
       "      <td>Iris-setosa</td>\n",
       "    </tr>\n",
       "    <tr>\n",
       "      <th>4</th>\n",
       "      <td>5</td>\n",
       "      <td>5.0</td>\n",
       "      <td>3.6</td>\n",
       "      <td>1.4</td>\n",
       "      <td>0.2</td>\n",
       "      <td>Iris-setosa</td>\n",
       "    </tr>\n",
       "  </tbody>\n",
       "</table>\n",
       "</div>"
      ],
      "text/plain": [
       "   Id  SepalLengthCm  SepalWidthCm  PetalLengthCm  PetalWidthCm      Species\n",
       "0   1            5.1           3.5            1.4           0.2  Iris-setosa\n",
       "1   2            4.9           3.0            1.4           0.2  Iris-setosa\n",
       "2   3            4.7           3.2            1.3           0.2  Iris-setosa\n",
       "3   4            4.6           3.1            1.5           0.2  Iris-setosa\n",
       "4   5            5.0           3.6            1.4           0.2  Iris-setosa"
      ]
     },
     "execution_count": 3,
     "metadata": {},
     "output_type": "execute_result"
    }
   ],
   "source": [
    "df = pd.read_csv('iris.csv')\n",
    "df.head()"
   ]
  },
  {
   "cell_type": "code",
   "execution_count": 4,
   "metadata": {},
   "outputs": [
    {
     "data": {
      "text/plain": [
       "Id               0\n",
       "SepalLengthCm    0\n",
       "SepalWidthCm     0\n",
       "PetalLengthCm    0\n",
       "PetalWidthCm     0\n",
       "Species          0\n",
       "dtype: int64"
      ]
     },
     "execution_count": 4,
     "metadata": {},
     "output_type": "execute_result"
    }
   ],
   "source": [
    "df.isnull().sum()"
   ]
  },
  {
   "cell_type": "code",
   "execution_count": 7,
   "metadata": {},
   "outputs": [],
   "source": [
    "df = df.drop(['Id'],axis=1)\n"
   ]
  },
  {
   "cell_type": "code",
   "execution_count": 8,
   "metadata": {},
   "outputs": [
    {
     "data": {
      "text/plain": [
       "array(['Iris-setosa', 'Iris-versicolor', 'Iris-virginica'], dtype=object)"
      ]
     },
     "execution_count": 8,
     "metadata": {},
     "output_type": "execute_result"
    }
   ],
   "source": [
    "df['Species'].unique()"
   ]
  },
  {
   "cell_type": "code",
   "execution_count": 9,
   "metadata": {},
   "outputs": [],
   "source": [
    "df['Species'] = df['Species'].map({\"Iris-setosa\":0,\"Iris-versicolor\":1,\"Iris-virginica\":2})"
   ]
  },
  {
   "cell_type": "code",
   "execution_count": 12,
   "metadata": {},
   "outputs": [],
   "source": [
    "X = df.iloc[: , :-1]\n",
    "y = df.iloc[: , -1]"
   ]
  },
  {
   "cell_type": "code",
   "execution_count": 13,
   "metadata": {},
   "outputs": [],
   "source": [
    "from sklearn.model_selection import train_test_split\n",
    "X_train, X_test, y_train, y_test = train_test_split(X, y, test_size=0.33, random_state=42)"
   ]
  },
  {
   "cell_type": "code",
   "execution_count": 14,
   "metadata": {},
   "outputs": [
    {
     "data": {
      "text/html": [
       "<div>\n",
       "<style scoped>\n",
       "    .dataframe tbody tr th:only-of-type {\n",
       "        vertical-align: middle;\n",
       "    }\n",
       "\n",
       "    .dataframe tbody tr th {\n",
       "        vertical-align: top;\n",
       "    }\n",
       "\n",
       "    .dataframe thead th {\n",
       "        text-align: right;\n",
       "    }\n",
       "</style>\n",
       "<table border=\"1\" class=\"dataframe\">\n",
       "  <thead>\n",
       "    <tr style=\"text-align: right;\">\n",
       "      <th></th>\n",
       "      <th>SepalLengthCm</th>\n",
       "      <th>SepalWidthCm</th>\n",
       "      <th>PetalLengthCm</th>\n",
       "      <th>PetalWidthCm</th>\n",
       "    </tr>\n",
       "  </thead>\n",
       "  <tbody>\n",
       "    <tr>\n",
       "      <th>96</th>\n",
       "      <td>5.7</td>\n",
       "      <td>2.9</td>\n",
       "      <td>4.2</td>\n",
       "      <td>1.3</td>\n",
       "    </tr>\n",
       "    <tr>\n",
       "      <th>105</th>\n",
       "      <td>7.6</td>\n",
       "      <td>3.0</td>\n",
       "      <td>6.6</td>\n",
       "      <td>2.1</td>\n",
       "    </tr>\n",
       "    <tr>\n",
       "      <th>66</th>\n",
       "      <td>5.6</td>\n",
       "      <td>3.0</td>\n",
       "      <td>4.5</td>\n",
       "      <td>1.5</td>\n",
       "    </tr>\n",
       "    <tr>\n",
       "      <th>0</th>\n",
       "      <td>5.1</td>\n",
       "      <td>3.5</td>\n",
       "      <td>1.4</td>\n",
       "      <td>0.2</td>\n",
       "    </tr>\n",
       "    <tr>\n",
       "      <th>122</th>\n",
       "      <td>7.7</td>\n",
       "      <td>2.8</td>\n",
       "      <td>6.7</td>\n",
       "      <td>2.0</td>\n",
       "    </tr>\n",
       "  </tbody>\n",
       "</table>\n",
       "</div>"
      ],
      "text/plain": [
       "     SepalLengthCm  SepalWidthCm  PetalLengthCm  PetalWidthCm\n",
       "96             5.7           2.9            4.2           1.3\n",
       "105            7.6           3.0            6.6           2.1\n",
       "66             5.6           3.0            4.5           1.5\n",
       "0              5.1           3.5            1.4           0.2\n",
       "122            7.7           2.8            6.7           2.0"
      ]
     },
     "execution_count": 14,
     "metadata": {},
     "output_type": "execute_result"
    }
   ],
   "source": [
    "X_train.head()"
   ]
  },
  {
   "cell_type": "code",
   "execution_count": 15,
   "metadata": {},
   "outputs": [
    {
     "data": {
      "text/plain": [
       "96     1\n",
       "105    2\n",
       "66     1\n",
       "0      0\n",
       "122    2\n",
       "Name: Species, dtype: int64"
      ]
     },
     "execution_count": 15,
     "metadata": {},
     "output_type": "execute_result"
    }
   ],
   "source": [
    "y_train.head()"
   ]
  },
  {
   "cell_type": "code",
   "execution_count": 16,
   "metadata": {},
   "outputs": [],
   "source": [
    "from sklearn.preprocessing import StandardScaler\n",
    "sc = StandardScaler()\n",
    "X_train = sc.fit_transform(X_train)\n",
    "X_test = sc.transform(X_test)\n"
   ]
  },
  {
   "cell_type": "code",
   "execution_count": 17,
   "metadata": {},
   "outputs": [],
   "source": [
    "import keras\n",
    "from keras.models import Sequential\n",
    "from keras.layers import Dense\n",
    "from keras.layers import Dropout\n",
    "from keras.layers import ReLU,LeakyReLU,PReLU,ELU"
   ]
  },
  {
   "cell_type": "code",
   "execution_count": 18,
   "metadata": {},
   "outputs": [],
   "source": [
    "ann = Sequential()\n"
   ]
  },
  {
   "cell_type": "code",
   "execution_count": 19,
   "metadata": {},
   "outputs": [],
   "source": [
    "import warnings\n",
    "warnings.filterwarnings(\"ignore\")"
   ]
  },
  {
   "cell_type": "code",
   "execution_count": 20,
   "metadata": {},
   "outputs": [],
   "source": [
    "ann.add(Dense(units=6,kernel_initializer='he_uniform',activation='relu',input_dim=4))\n",
    "ann.add(Dense(units=6,kernel_initializer='he_uniform',activation='relu'))\n",
    "ann.add(Dense(units=1,kernel_initializer='glorot_uniform',activation='softmax'))\n",
    "\n"
   ]
  },
  {
   "cell_type": "code",
   "execution_count": 21,
   "metadata": {},
   "outputs": [],
   "source": [
    "ann.compile(optimizer='Adamax',loss='categorical_crossentropy',metrics=['accuracy'])\n"
   ]
  },
  {
   "cell_type": "code",
   "execution_count": 23,
   "metadata": {},
   "outputs": [
    {
     "name": "stdout",
     "output_type": "stream",
     "text": [
      "Epoch 1/100\n",
      "9/9 [==============================] - 0s 39ms/step - loss: 0.0000e+00 - accuracy: 0.3444 - val_loss: 0.0000e+00 - val_accuracy: 0.4000\n",
      "Epoch 2/100\n",
      "9/9 [==============================] - 0s 4ms/step - loss: 0.0000e+00 - accuracy: 0.3444 - val_loss: 0.0000e+00 - val_accuracy: 0.4000\n",
      "Epoch 3/100\n",
      "9/9 [==============================] - 0s 4ms/step - loss: 0.0000e+00 - accuracy: 0.3444 - val_loss: 0.0000e+00 - val_accuracy: 0.4000\n",
      "Epoch 4/100\n",
      "9/9 [==============================] - 0s 4ms/step - loss: 0.0000e+00 - accuracy: 0.3444 - val_loss: 0.0000e+00 - val_accuracy: 0.4000\n",
      "Epoch 5/100\n",
      "9/9 [==============================] - 0s 4ms/step - loss: 0.0000e+00 - accuracy: 0.3444 - val_loss: 0.0000e+00 - val_accuracy: 0.4000\n",
      "Epoch 6/100\n",
      "9/9 [==============================] - 0s 4ms/step - loss: 0.0000e+00 - accuracy: 0.3444 - val_loss: 0.0000e+00 - val_accuracy: 0.4000\n",
      "Epoch 7/100\n",
      "9/9 [==============================] - 0s 4ms/step - loss: 0.0000e+00 - accuracy: 0.3444 - val_loss: 0.0000e+00 - val_accuracy: 0.4000\n",
      "Epoch 8/100\n",
      "9/9 [==============================] - 0s 4ms/step - loss: 0.0000e+00 - accuracy: 0.3444 - val_loss: 0.0000e+00 - val_accuracy: 0.4000\n",
      "Epoch 9/100\n",
      "9/9 [==============================] - 0s 5ms/step - loss: 0.0000e+00 - accuracy: 0.3444 - val_loss: 0.0000e+00 - val_accuracy: 0.4000\n",
      "Epoch 10/100\n",
      "9/9 [==============================] - 0s 4ms/step - loss: 0.0000e+00 - accuracy: 0.3444 - val_loss: 0.0000e+00 - val_accuracy: 0.4000\n",
      "Epoch 11/100\n",
      "9/9 [==============================] - 0s 4ms/step - loss: 0.0000e+00 - accuracy: 0.3444 - val_loss: 0.0000e+00 - val_accuracy: 0.4000\n",
      "Epoch 12/100\n",
      "9/9 [==============================] - 0s 5ms/step - loss: 0.0000e+00 - accuracy: 0.3444 - val_loss: 0.0000e+00 - val_accuracy: 0.4000\n",
      "Epoch 13/100\n",
      "9/9 [==============================] - 0s 3ms/step - loss: 0.0000e+00 - accuracy: 0.3444 - val_loss: 0.0000e+00 - val_accuracy: 0.4000\n",
      "Epoch 14/100\n",
      "9/9 [==============================] - 0s 5ms/step - loss: 0.0000e+00 - accuracy: 0.3444 - val_loss: 0.0000e+00 - val_accuracy: 0.4000\n",
      "Epoch 15/100\n",
      "9/9 [==============================] - 0s 4ms/step - loss: 0.0000e+00 - accuracy: 0.3444 - val_loss: 0.0000e+00 - val_accuracy: 0.4000\n",
      "Epoch 16/100\n",
      "9/9 [==============================] - 0s 5ms/step - loss: 0.0000e+00 - accuracy: 0.3444 - val_loss: 0.0000e+00 - val_accuracy: 0.4000\n",
      "Epoch 17/100\n",
      "9/9 [==============================] - 0s 4ms/step - loss: 0.0000e+00 - accuracy: 0.3444 - val_loss: 0.0000e+00 - val_accuracy: 0.4000\n",
      "Epoch 18/100\n",
      "9/9 [==============================] - 0s 4ms/step - loss: 0.0000e+00 - accuracy: 0.3444 - val_loss: 0.0000e+00 - val_accuracy: 0.4000\n",
      "Epoch 19/100\n",
      "9/9 [==============================] - 0s 5ms/step - loss: 0.0000e+00 - accuracy: 0.3444 - val_loss: 0.0000e+00 - val_accuracy: 0.4000\n",
      "Epoch 20/100\n",
      "9/9 [==============================] - 0s 7ms/step - loss: 0.0000e+00 - accuracy: 0.3444 - val_loss: 0.0000e+00 - val_accuracy: 0.4000\n",
      "Epoch 21/100\n",
      "9/9 [==============================] - 0s 5ms/step - loss: 0.0000e+00 - accuracy: 0.3444 - val_loss: 0.0000e+00 - val_accuracy: 0.4000\n",
      "Epoch 22/100\n",
      "9/9 [==============================] - 0s 6ms/step - loss: 0.0000e+00 - accuracy: 0.3444 - val_loss: 0.0000e+00 - val_accuracy: 0.4000\n",
      "Epoch 23/100\n",
      "9/9 [==============================] - 0s 6ms/step - loss: 0.0000e+00 - accuracy: 0.3444 - val_loss: 0.0000e+00 - val_accuracy: 0.4000\n",
      "Epoch 24/100\n",
      "9/9 [==============================] - 0s 4ms/step - loss: 0.0000e+00 - accuracy: 0.3444 - val_loss: 0.0000e+00 - val_accuracy: 0.4000\n",
      "Epoch 25/100\n",
      "9/9 [==============================] - 0s 4ms/step - loss: 0.0000e+00 - accuracy: 0.3444 - val_loss: 0.0000e+00 - val_accuracy: 0.4000\n",
      "Epoch 26/100\n",
      "9/9 [==============================] - 0s 4ms/step - loss: 0.0000e+00 - accuracy: 0.3444 - val_loss: 0.0000e+00 - val_accuracy: 0.4000\n",
      "Epoch 27/100\n",
      "9/9 [==============================] - 0s 5ms/step - loss: 0.0000e+00 - accuracy: 0.3444 - val_loss: 0.0000e+00 - val_accuracy: 0.4000\n",
      "Epoch 28/100\n",
      "9/9 [==============================] - 0s 5ms/step - loss: 0.0000e+00 - accuracy: 0.3444 - val_loss: 0.0000e+00 - val_accuracy: 0.4000\n",
      "Epoch 29/100\n",
      "9/9 [==============================] - 0s 5ms/step - loss: 0.0000e+00 - accuracy: 0.3444 - val_loss: 0.0000e+00 - val_accuracy: 0.4000\n",
      "Epoch 30/100\n",
      "9/9 [==============================] - 0s 6ms/step - loss: 0.0000e+00 - accuracy: 0.3444 - val_loss: 0.0000e+00 - val_accuracy: 0.4000\n",
      "Epoch 31/100\n",
      "9/9 [==============================] - 0s 4ms/step - loss: 0.0000e+00 - accuracy: 0.3444 - val_loss: 0.0000e+00 - val_accuracy: 0.4000\n",
      "Epoch 32/100\n",
      "9/9 [==============================] - 0s 5ms/step - loss: 0.0000e+00 - accuracy: 0.3444 - val_loss: 0.0000e+00 - val_accuracy: 0.4000\n",
      "Epoch 33/100\n",
      "9/9 [==============================] - 0s 5ms/step - loss: 0.0000e+00 - accuracy: 0.3444 - val_loss: 0.0000e+00 - val_accuracy: 0.4000\n",
      "Epoch 34/100\n",
      "9/9 [==============================] - 0s 5ms/step - loss: 0.0000e+00 - accuracy: 0.3444 - val_loss: 0.0000e+00 - val_accuracy: 0.4000\n",
      "Epoch 35/100\n",
      "9/9 [==============================] - 0s 5ms/step - loss: 0.0000e+00 - accuracy: 0.3444 - val_loss: 0.0000e+00 - val_accuracy: 0.4000\n",
      "Epoch 36/100\n",
      "9/9 [==============================] - 0s 5ms/step - loss: 0.0000e+00 - accuracy: 0.3444 - val_loss: 0.0000e+00 - val_accuracy: 0.4000\n",
      "Epoch 37/100\n",
      "9/9 [==============================] - 0s 4ms/step - loss: 0.0000e+00 - accuracy: 0.3444 - val_loss: 0.0000e+00 - val_accuracy: 0.4000\n",
      "Epoch 38/100\n",
      "9/9 [==============================] - 0s 4ms/step - loss: 0.0000e+00 - accuracy: 0.3444 - val_loss: 0.0000e+00 - val_accuracy: 0.4000\n",
      "Epoch 39/100\n",
      "9/9 [==============================] - 0s 3ms/step - loss: 0.0000e+00 - accuracy: 0.3444 - val_loss: 0.0000e+00 - val_accuracy: 0.4000\n",
      "Epoch 40/100\n",
      "9/9 [==============================] - 0s 3ms/step - loss: 0.0000e+00 - accuracy: 0.3444 - val_loss: 0.0000e+00 - val_accuracy: 0.4000\n",
      "Epoch 41/100\n",
      "9/9 [==============================] - 0s 3ms/step - loss: 0.0000e+00 - accuracy: 0.3444 - val_loss: 0.0000e+00 - val_accuracy: 0.4000\n",
      "Epoch 42/100\n",
      "9/9 [==============================] - 0s 4ms/step - loss: 0.0000e+00 - accuracy: 0.3444 - val_loss: 0.0000e+00 - val_accuracy: 0.4000\n",
      "Epoch 43/100\n",
      "9/9 [==============================] - 0s 4ms/step - loss: 0.0000e+00 - accuracy: 0.3444 - val_loss: 0.0000e+00 - val_accuracy: 0.4000\n",
      "Epoch 44/100\n",
      "9/9 [==============================] - 0s 4ms/step - loss: 0.0000e+00 - accuracy: 0.3444 - val_loss: 0.0000e+00 - val_accuracy: 0.4000\n",
      "Epoch 45/100\n",
      "9/9 [==============================] - 0s 4ms/step - loss: 0.0000e+00 - accuracy: 0.3444 - val_loss: 0.0000e+00 - val_accuracy: 0.4000\n",
      "Epoch 46/100\n",
      "9/9 [==============================] - 0s 5ms/step - loss: 0.0000e+00 - accuracy: 0.3444 - val_loss: 0.0000e+00 - val_accuracy: 0.4000\n",
      "Epoch 47/100\n",
      "9/9 [==============================] - 0s 3ms/step - loss: 0.0000e+00 - accuracy: 0.3444 - val_loss: 0.0000e+00 - val_accuracy: 0.4000\n",
      "Epoch 48/100\n",
      "9/9 [==============================] - 0s 4ms/step - loss: 0.0000e+00 - accuracy: 0.3444 - val_loss: 0.0000e+00 - val_accuracy: 0.4000\n",
      "Epoch 49/100\n",
      "9/9 [==============================] - 0s 3ms/step - loss: 0.0000e+00 - accuracy: 0.3444 - val_loss: 0.0000e+00 - val_accuracy: 0.4000\n",
      "Epoch 50/100\n",
      "9/9 [==============================] - 0s 4ms/step - loss: 0.0000e+00 - accuracy: 0.3444 - val_loss: 0.0000e+00 - val_accuracy: 0.4000\n",
      "Epoch 51/100\n",
      "9/9 [==============================] - 0s 3ms/step - loss: 0.0000e+00 - accuracy: 0.3444 - val_loss: 0.0000e+00 - val_accuracy: 0.4000\n",
      "Epoch 52/100\n",
      "9/9 [==============================] - 0s 3ms/step - loss: 0.0000e+00 - accuracy: 0.3444 - val_loss: 0.0000e+00 - val_accuracy: 0.4000\n",
      "Epoch 53/100\n",
      "9/9 [==============================] - 0s 4ms/step - loss: 0.0000e+00 - accuracy: 0.3444 - val_loss: 0.0000e+00 - val_accuracy: 0.4000\n",
      "Epoch 54/100\n",
      "9/9 [==============================] - 0s 4ms/step - loss: 0.0000e+00 - accuracy: 0.3444 - val_loss: 0.0000e+00 - val_accuracy: 0.4000\n",
      "Epoch 55/100\n",
      "9/9 [==============================] - 0s 4ms/step - loss: 0.0000e+00 - accuracy: 0.3444 - val_loss: 0.0000e+00 - val_accuracy: 0.4000\n",
      "Epoch 56/100\n",
      "9/9 [==============================] - 0s 3ms/step - loss: 0.0000e+00 - accuracy: 0.3444 - val_loss: 0.0000e+00 - val_accuracy: 0.4000\n",
      "Epoch 57/100\n",
      "9/9 [==============================] - 0s 4ms/step - loss: 0.0000e+00 - accuracy: 0.3444 - val_loss: 0.0000e+00 - val_accuracy: 0.4000\n",
      "Epoch 58/100\n",
      "9/9 [==============================] - 0s 4ms/step - loss: 0.0000e+00 - accuracy: 0.3444 - val_loss: 0.0000e+00 - val_accuracy: 0.4000\n",
      "Epoch 59/100\n",
      "9/9 [==============================] - 0s 3ms/step - loss: 0.0000e+00 - accuracy: 0.3444 - val_loss: 0.0000e+00 - val_accuracy: 0.4000\n",
      "Epoch 60/100\n",
      "9/9 [==============================] - 0s 4ms/step - loss: 0.0000e+00 - accuracy: 0.3444 - val_loss: 0.0000e+00 - val_accuracy: 0.4000\n",
      "Epoch 61/100\n",
      "9/9 [==============================] - 0s 4ms/step - loss: 0.0000e+00 - accuracy: 0.3444 - val_loss: 0.0000e+00 - val_accuracy: 0.4000\n",
      "Epoch 62/100\n",
      "9/9 [==============================] - 0s 4ms/step - loss: 0.0000e+00 - accuracy: 0.3444 - val_loss: 0.0000e+00 - val_accuracy: 0.4000\n",
      "Epoch 63/100\n",
      "9/9 [==============================] - 0s 5ms/step - loss: 0.0000e+00 - accuracy: 0.3444 - val_loss: 0.0000e+00 - val_accuracy: 0.4000\n",
      "Epoch 64/100\n",
      "9/9 [==============================] - 0s 4ms/step - loss: 0.0000e+00 - accuracy: 0.3444 - val_loss: 0.0000e+00 - val_accuracy: 0.4000\n",
      "Epoch 65/100\n",
      "9/9 [==============================] - 0s 3ms/step - loss: 0.0000e+00 - accuracy: 0.3444 - val_loss: 0.0000e+00 - val_accuracy: 0.4000\n",
      "Epoch 66/100\n",
      "9/9 [==============================] - 0s 4ms/step - loss: 0.0000e+00 - accuracy: 0.3444 - val_loss: 0.0000e+00 - val_accuracy: 0.4000\n",
      "Epoch 67/100\n",
      "9/9 [==============================] - 0s 4ms/step - loss: 0.0000e+00 - accuracy: 0.3444 - val_loss: 0.0000e+00 - val_accuracy: 0.4000\n",
      "Epoch 68/100\n",
      "9/9 [==============================] - 0s 4ms/step - loss: 0.0000e+00 - accuracy: 0.3444 - val_loss: 0.0000e+00 - val_accuracy: 0.4000\n",
      "Epoch 69/100\n",
      "9/9 [==============================] - 0s 4ms/step - loss: 0.0000e+00 - accuracy: 0.3444 - val_loss: 0.0000e+00 - val_accuracy: 0.4000\n",
      "Epoch 70/100\n",
      "9/9 [==============================] - 0s 4ms/step - loss: 0.0000e+00 - accuracy: 0.3444 - val_loss: 0.0000e+00 - val_accuracy: 0.4000\n",
      "Epoch 71/100\n",
      "9/9 [==============================] - 0s 4ms/step - loss: 0.0000e+00 - accuracy: 0.3444 - val_loss: 0.0000e+00 - val_accuracy: 0.4000\n",
      "Epoch 72/100\n",
      "9/9 [==============================] - 0s 4ms/step - loss: 0.0000e+00 - accuracy: 0.3444 - val_loss: 0.0000e+00 - val_accuracy: 0.4000\n",
      "Epoch 73/100\n",
      "9/9 [==============================] - 0s 4ms/step - loss: 0.0000e+00 - accuracy: 0.3444 - val_loss: 0.0000e+00 - val_accuracy: 0.4000\n",
      "Epoch 74/100\n",
      "9/9 [==============================] - 0s 5ms/step - loss: 0.0000e+00 - accuracy: 0.3444 - val_loss: 0.0000e+00 - val_accuracy: 0.4000\n",
      "Epoch 75/100\n",
      "9/9 [==============================] - 0s 4ms/step - loss: 0.0000e+00 - accuracy: 0.3444 - val_loss: 0.0000e+00 - val_accuracy: 0.4000\n",
      "Epoch 76/100\n",
      "9/9 [==============================] - 0s 4ms/step - loss: 0.0000e+00 - accuracy: 0.3444 - val_loss: 0.0000e+00 - val_accuracy: 0.4000\n",
      "Epoch 77/100\n",
      "9/9 [==============================] - 0s 4ms/step - loss: 0.0000e+00 - accuracy: 0.3444 - val_loss: 0.0000e+00 - val_accuracy: 0.4000\n",
      "Epoch 78/100\n",
      "9/9 [==============================] - 0s 4ms/step - loss: 0.0000e+00 - accuracy: 0.3444 - val_loss: 0.0000e+00 - val_accuracy: 0.4000\n",
      "Epoch 79/100\n",
      "9/9 [==============================] - 0s 3ms/step - loss: 0.0000e+00 - accuracy: 0.3444 - val_loss: 0.0000e+00 - val_accuracy: 0.4000\n",
      "Epoch 80/100\n",
      "9/9 [==============================] - 0s 3ms/step - loss: 0.0000e+00 - accuracy: 0.3444 - val_loss: 0.0000e+00 - val_accuracy: 0.4000\n",
      "Epoch 81/100\n",
      "9/9 [==============================] - 0s 3ms/step - loss: 0.0000e+00 - accuracy: 0.3444 - val_loss: 0.0000e+00 - val_accuracy: 0.4000\n",
      "Epoch 82/100\n",
      "9/9 [==============================] - 0s 4ms/step - loss: 0.0000e+00 - accuracy: 0.3444 - val_loss: 0.0000e+00 - val_accuracy: 0.4000\n",
      "Epoch 83/100\n",
      "9/9 [==============================] - 0s 5ms/step - loss: 0.0000e+00 - accuracy: 0.3444 - val_loss: 0.0000e+00 - val_accuracy: 0.4000\n",
      "Epoch 84/100\n",
      "9/9 [==============================] - 0s 4ms/step - loss: 0.0000e+00 - accuracy: 0.3444 - val_loss: 0.0000e+00 - val_accuracy: 0.4000\n",
      "Epoch 85/100\n",
      "9/9 [==============================] - 0s 3ms/step - loss: 0.0000e+00 - accuracy: 0.3444 - val_loss: 0.0000e+00 - val_accuracy: 0.4000\n",
      "Epoch 86/100\n",
      "9/9 [==============================] - 0s 4ms/step - loss: 0.0000e+00 - accuracy: 0.3444 - val_loss: 0.0000e+00 - val_accuracy: 0.4000\n",
      "Epoch 87/100\n",
      "9/9 [==============================] - 0s 4ms/step - loss: 0.0000e+00 - accuracy: 0.3444 - val_loss: 0.0000e+00 - val_accuracy: 0.4000\n",
      "Epoch 88/100\n",
      "9/9 [==============================] - 0s 4ms/step - loss: 0.0000e+00 - accuracy: 0.3444 - val_loss: 0.0000e+00 - val_accuracy: 0.4000\n",
      "Epoch 89/100\n",
      "9/9 [==============================] - 0s 3ms/step - loss: 0.0000e+00 - accuracy: 0.3444 - val_loss: 0.0000e+00 - val_accuracy: 0.4000\n",
      "Epoch 90/100\n",
      "9/9 [==============================] - 0s 3ms/step - loss: 0.0000e+00 - accuracy: 0.3444 - val_loss: 0.0000e+00 - val_accuracy: 0.4000\n",
      "Epoch 91/100\n",
      "9/9 [==============================] - 0s 4ms/step - loss: 0.0000e+00 - accuracy: 0.3444 - val_loss: 0.0000e+00 - val_accuracy: 0.4000\n",
      "Epoch 92/100\n",
      "9/9 [==============================] - 0s 4ms/step - loss: 0.0000e+00 - accuracy: 0.3444 - val_loss: 0.0000e+00 - val_accuracy: 0.4000\n",
      "Epoch 93/100\n",
      "9/9 [==============================] - 0s 4ms/step - loss: 0.0000e+00 - accuracy: 0.3444 - val_loss: 0.0000e+00 - val_accuracy: 0.4000\n",
      "Epoch 94/100\n",
      "9/9 [==============================] - 0s 5ms/step - loss: 0.0000e+00 - accuracy: 0.3444 - val_loss: 0.0000e+00 - val_accuracy: 0.4000\n",
      "Epoch 95/100\n",
      "9/9 [==============================] - 0s 6ms/step - loss: 0.0000e+00 - accuracy: 0.3444 - val_loss: 0.0000e+00 - val_accuracy: 0.4000\n",
      "Epoch 96/100\n",
      "9/9 [==============================] - 0s 5ms/step - loss: 0.0000e+00 - accuracy: 0.3444 - val_loss: 0.0000e+00 - val_accuracy: 0.4000\n",
      "Epoch 97/100\n",
      "9/9 [==============================] - 0s 4ms/step - loss: 0.0000e+00 - accuracy: 0.3444 - val_loss: 0.0000e+00 - val_accuracy: 0.4000\n",
      "Epoch 98/100\n",
      "9/9 [==============================] - 0s 4ms/step - loss: 0.0000e+00 - accuracy: 0.3444 - val_loss: 0.0000e+00 - val_accuracy: 0.4000\n",
      "Epoch 99/100\n",
      "9/9 [==============================] - 0s 3ms/step - loss: 0.0000e+00 - accuracy: 0.3444 - val_loss: 0.0000e+00 - val_accuracy: 0.4000\n",
      "Epoch 100/100\n",
      "9/9 [==============================] - 0s 5ms/step - loss: 0.0000e+00 - accuracy: 0.3444 - val_loss: 0.0000e+00 - val_accuracy: 0.4000\n"
     ]
    }
   ],
   "source": [
    "reg = ann.fit(X_train,y_train,validation_split=0.1,batch_size=10,epochs=100)"
   ]
  },
  {
   "cell_type": "code",
   "execution_count": 24,
   "metadata": {},
   "outputs": [],
   "source": [
    "y_pred = ann.predict(X_test)\n",
    "y_pred = y_pred > 0.5"
   ]
  },
  {
   "cell_type": "code",
   "execution_count": 27,
   "metadata": {},
   "outputs": [],
   "source": [
    "from sklearn.metrics import confusion_matrix,accuracy_score,classification_report"
   ]
  },
  {
   "cell_type": "code",
   "execution_count": 28,
   "metadata": {},
   "outputs": [
    {
     "name": "stdout",
     "output_type": "stream",
     "text": [
      "[[ 0 19  0]\n",
      " [ 0 15  0]\n",
      " [ 0 16  0]]\n"
     ]
    }
   ],
   "source": [
    "print(confusion_matrix(y_test,y_pred))\n"
   ]
  },
  {
   "cell_type": "code",
   "execution_count": 30,
   "metadata": {},
   "outputs": [
    {
     "name": "stdout",
     "output_type": "stream",
     "text": [
      "              precision    recall  f1-score   support\n",
      "\n",
      "           0       0.00      0.00      0.00        19\n",
      "           1       0.30      1.00      0.46        15\n",
      "           2       0.00      0.00      0.00        16\n",
      "\n",
      "    accuracy                           0.30        50\n",
      "   macro avg       0.10      0.33      0.15        50\n",
      "weighted avg       0.09      0.30      0.14        50\n",
      "\n"
     ]
    }
   ],
   "source": [
    "print(classification_report(y_test,y_pred))"
   ]
  },
  {
   "cell_type": "code",
   "execution_count": 93,
   "metadata": {},
   "outputs": [
    {
     "data": {
      "text/plain": [
       "0.8681818181818182"
      ]
     },
     "execution_count": 93,
     "metadata": {},
     "output_type": "execute_result"
    }
   ],
   "source": [
    "accuracy_score(y_test,y_pred)"
   ]
  },
  {
   "cell_type": "code",
   "execution_count": null,
   "metadata": {},
   "outputs": [],
   "source": []
  }
 ],
 "metadata": {
  "kernelspec": {
   "display_name": "Python 3 (ipykernel)",
   "language": "python",
   "name": "python3"
  },
  "language_info": {
   "codemirror_mode": {
    "name": "ipython",
    "version": 3
   },
   "file_extension": ".py",
   "mimetype": "text/x-python",
   "name": "python",
   "nbconvert_exporter": "python",
   "pygments_lexer": "ipython3",
   "version": "3.9.15"
  }
 },
 "nbformat": 4,
 "nbformat_minor": 2
}
